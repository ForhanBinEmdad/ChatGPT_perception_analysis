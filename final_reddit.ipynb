{
  "nbformat": 4,
  "nbformat_minor": 0,
  "metadata": {
    "colab": {
      "provenance": []
    },
    "kernelspec": {
      "name": "python3",
      "display_name": "Python 3"
    },
    "language_info": {
      "name": "python"
    }
  },
  "cells": [
    {
      "cell_type": "code",
      "source": [
        "!pip install praw"
      ],
      "metadata": {
        "colab": {
          "base_uri": "https://localhost:8080/"
        },
        "id": "8FmV1q2k-yU2",
        "outputId": "2262dff2-b7d9-4701-c44b-d2478494313b"
      },
      "execution_count": null,
      "outputs": [
        {
          "output_type": "stream",
          "name": "stdout",
          "text": [
            "Looking in indexes: https://pypi.org/simple, https://us-python.pkg.dev/colab-wheels/public/simple/\n",
            "Collecting praw\n",
            "  Downloading praw-7.7.0-py3-none-any.whl (189 kB)\n",
            "\u001b[2K     \u001b[90m━━━━━━━━━━━━━━━━━━━━━━━━━━━━━━━━━━━━━━━\u001b[0m \u001b[32m189.4/189.4 KB\u001b[0m \u001b[31m2.9 MB/s\u001b[0m eta \u001b[36m0:00:00\u001b[0m\n",
            "\u001b[?25hCollecting websocket-client>=0.54.0\n",
            "  Downloading websocket_client-1.5.1-py3-none-any.whl (55 kB)\n",
            "\u001b[2K     \u001b[90m━━━━━━━━━━━━━━━━━━━━━━━━━━━━━━━━━━━━━━━━\u001b[0m \u001b[32m55.9/55.9 KB\u001b[0m \u001b[31m3.6 MB/s\u001b[0m eta \u001b[36m0:00:00\u001b[0m\n",
            "\u001b[?25hCollecting prawcore<3,>=2.1\n",
            "  Downloading prawcore-2.3.0-py3-none-any.whl (16 kB)\n",
            "Collecting update-checker>=0.18\n",
            "  Downloading update_checker-0.18.0-py3-none-any.whl (7.0 kB)\n",
            "Requirement already satisfied: requests<3.0,>=2.6.0 in /usr/local/lib/python3.9/dist-packages (from prawcore<3,>=2.1->praw) (2.27.1)\n",
            "Requirement already satisfied: idna<4,>=2.5 in /usr/local/lib/python3.9/dist-packages (from requests<3.0,>=2.6.0->prawcore<3,>=2.1->praw) (3.4)\n",
            "Requirement already satisfied: urllib3<1.27,>=1.21.1 in /usr/local/lib/python3.9/dist-packages (from requests<3.0,>=2.6.0->prawcore<3,>=2.1->praw) (1.26.15)\n",
            "Requirement already satisfied: certifi>=2017.4.17 in /usr/local/lib/python3.9/dist-packages (from requests<3.0,>=2.6.0->prawcore<3,>=2.1->praw) (2022.12.7)\n",
            "Requirement already satisfied: charset-normalizer~=2.0.0 in /usr/local/lib/python3.9/dist-packages (from requests<3.0,>=2.6.0->prawcore<3,>=2.1->praw) (2.0.12)\n",
            "Installing collected packages: websocket-client, update-checker, prawcore, praw\n",
            "Successfully installed praw-7.7.0 prawcore-2.3.0 update-checker-0.18.0 websocket-client-1.5.1\n"
          ]
        }
      ]
    },
    {
      "cell_type": "code",
      "source": [
        "from pprint import pprint\n",
        "import pandas as pd\n",
        "import numpy as np\n",
        "import matplotlib.pyplot as plt\n",
        "import seaborn as sns"
      ],
      "metadata": {
        "id": "emAf8V-y-3Us"
      },
      "execution_count": null,
      "outputs": []
    },
    {
      "cell_type": "code",
      "source": [
        "import praw\n",
        "\n",
        "#user_agent = \"Scraper 1.0 by /u/Forhanreddit\"\n",
        "reddit = praw.Reddit(\n",
        "    client_id=\"ndZKfJEz1OG7SA26CNkQ_w\",\n",
        "    client_secret=\"F5o5q_a2oGmmkMGEE0ZuJVQEvpGDeA\",\n",
        "    user_agent=\"Forhanreddit\"\n",
        ")"
      ],
      "metadata": {
        "id": "5QmcREh-_Jwi"
      },
      "execution_count": null,
      "outputs": []
    },
    {
      "cell_type": "code",
      "source": [
        "sub = ['ChatGPT']  # make a list of subreddits you want to scrape the data from\n",
        "\n",
        "for s in sub:\n",
        "\n",
        "    subreddit = reddit.subreddit(s)   # Chosing the subreddit"
      ],
      "metadata": {
        "id": "CPevzU69FsB6"
      },
      "execution_count": null,
      "outputs": []
    },
    {
      "cell_type": "code",
      "source": [
        "\n",
        "########################################\n",
        "#   CREATING DICTIONARY TO STORE THE DATA WHICH WILL BE CONVERTED TO A DATAFRAME\n",
        "########################################\n",
        "\n",
        "#   NOTE: ALL THE POST DATA AND COMMENT DATA WILL BE SAVED IN TWO DIFFERENT\n",
        "#   DATASETS AND LATER CAN BE MAPPED USING IDS OF POSTS/COMMENTS AS WE WILL\n",
        "#   BE CAPTURING ALL IDS THAT COME IN OUR WAY\n",
        "\n",
        "# SCRAPING CAN BE DONE VIA VARIOUS STRATEGIES {HOT,TOP,etc} we will go with keyword strategy i.e using search a keyword\n",
        "query = ['education']\n",
        "\n",
        "for item in query:\n",
        "  post_dict = {\n",
        "      \"title\" : [],   #title of the post\n",
        "      \"score\" : [],   # score of the post\n",
        "      \"id\" : [],      # unique id of the post\n",
        "      \"upvotes\" : [],         # the upvotes\n",
        "      \"url\" : [],     #url of the post\n",
        "      \"comms_num\": [],   #the number of comments on the post\n",
        "     \"created\" : [],  #timestamp of the post\n",
        "      \"body\" : []         # the descriptionof post\n",
        "  }\n",
        "  # comments_dict = {\n",
        "  #     \"comment_id\" : [],      #unique comm id\n",
        "  #     \"comment_parent_id\" : [],   # comment parent id\n",
        "  #     \"comment_body\" : [],   # text in comment\n",
        "  #     \"comment_link_id\" : []  #link to the comment\n",
        "  # }\n",
        "  for submission in subreddit.search(query,sort = \"top\",limit = 1000):\n",
        "      post_dict[\"title\"].append(submission.title)\n",
        "      post_dict[\"score\"].append(submission.score)\n",
        "      post_dict[\"id\"].append(submission.id)\n",
        "      post_dict[\"upvotes\"].append(submission.ups)\n",
        "      post_dict[\"url\"].append(submission.url)\n",
        "      post_dict[\"comms_num\"].append(submission.num_comments)\n",
        "      post_dict[\"created\"].append(submission.created)\n",
        "      post_dict[\"body\"].append(submission.selftext)\n",
        "\n",
        "      #### Acessing comments on the post\n",
        "  #     submission.comments.replace_more(limit = 1)\n",
        "  #     for comment in submission.comments.list():\n",
        "  #         comments_dict[\"comment_id\"].append(comment.id)\n",
        "  #         comments_dict[\"comment_parent_id\"].append(comment.parent_id)\n",
        "  #         comments_dict[\"comment_body\"].append(comment.body)\n",
        "  #         comments_dict[\"comment_link_id\"].append(comment.link_id)\n",
        "\n",
        "  # post_comments = pd.DataFrame(comments_dict)\n",
        "\n",
        "  # post_comments.to_csv(s+\"_comments_\"+ item +\"subreddit.csv\")\n",
        "  post_data = pd.DataFrame(post_dict)\n",
        "  post_data.to_csv(s+\"_\"+ item +\"subreddit.csv\")"
      ],
      "metadata": {
        "colab": {
          "base_uri": "https://localhost:8080/"
        },
        "id": "6WKuv3Azvc5K",
        "outputId": "61e01fcd-c0bc-44e5-f561-b25ca3687ab3"
      },
      "execution_count": null,
      "outputs": [
        {
          "output_type": "stream",
          "name": "stderr",
          "text": [
            "WARNING:praw:It appears that you are using PRAW in an asynchronous environment.\n",
            "It is strongly recommended to use Async PRAW: https://asyncpraw.readthedocs.io.\n",
            "See https://praw.readthedocs.io/en/latest/getting_started/multiple_instances.html#discord-bots-and-asynchronous-environments for more info.\n",
            "\n",
            "WARNING:praw:It appears that you are using PRAW in an asynchronous environment.\n",
            "It is strongly recommended to use Async PRAW: https://asyncpraw.readthedocs.io.\n",
            "See https://praw.readthedocs.io/en/latest/getting_started/multiple_instances.html#discord-bots-and-asynchronous-environments for more info.\n",
            "\n",
            "WARNING:praw:It appears that you are using PRAW in an asynchronous environment.\n",
            "It is strongly recommended to use Async PRAW: https://asyncpraw.readthedocs.io.\n",
            "See https://praw.readthedocs.io/en/latest/getting_started/multiple_instances.html#discord-bots-and-asynchronous-environments for more info.\n",
            "\n"
          ]
        }
      ]
    },
    {
      "cell_type": "markdown",
      "source": [
        "**Descriptive Statistics**"
      ],
      "metadata": {
        "id": "BrWOO71u-Tqx"
      }
    },
    {
      "cell_type": "code",
      "source": [
        "reddit_data = pd.read_csv('ChatGPT_educationsubreddit.csv')"
      ],
      "metadata": {
        "id": "mQDWvdEN-xHb"
      },
      "execution_count": null,
      "outputs": []
    },
    {
      "cell_type": "code",
      "source": [
        "reddit_data.columns"
      ],
      "metadata": {
        "colab": {
          "base_uri": "https://localhost:8080/"
        },
        "id": "f1FlV6_k_ySB",
        "outputId": "e8545d73-9df3-40d5-b167-bedd78caeb15"
      },
      "execution_count": null,
      "outputs": [
        {
          "output_type": "execute_result",
          "data": {
            "text/plain": [
              "Index(['title', 'score', 'id', 'upvotes', 'url', 'comms_num', 'created',\n",
              "       'body'],\n",
              "      dtype='object')"
            ]
          },
          "metadata": {},
          "execution_count": 98
        }
      ]
    },
    {
      "cell_type": "code",
      "source": [
        "# reddit_data[\"contains_useful\"] = reddit_data[\"title\"].str.contains(\"best\", \"amazing\")\n",
        "reddit_data[\"contains_useful\"] = reddit_data[\"title\"].str.contains('|'.join([\"best\",\t\"amazing\",\t\"good\",\t\"love\",\t\"Effectiveness\",\t\"empowers\",\t\"great\",\t\"new level\",\t\"time saver\",\t\"productivity\",\t\"booster\",\t\"usefulness\",\t\"unique\",\t\"better\",\t\"well\",\t\"Love\",\t\"Summarize\",\t\"success\",\t\"future\",\t\"helpful\",\t\"insights\",\t\"knowledge\",\t\"learn\",\t\"learning\"\n",
        "\n",
        "]))"
      ],
      "metadata": {
        "id": "yolLMTVTBOSZ"
      },
      "execution_count": null,
      "outputs": []
    },
    {
      "cell_type": "code",
      "source": [
        "reddit_data_useful = reddit_data[reddit_data[\"contains_useful\"] == True]"
      ],
      "metadata": {
        "id": "ZVgo8ReVBaoR"
      },
      "execution_count": null,
      "outputs": []
    },
    {
      "cell_type": "code",
      "source": [
        "# reddit_data[\"contains_not_useful\"] = reddit_data[\"title\"].str.contains(\"concerning\",\"dirty\")\n",
        "reddit_data[\"contains_not_useful\"] = reddit_data[\"title\"].str.contains(('|'.join([\n",
        "\"dirty\",\n",
        "\"negative\",\n",
        "\"banning\",\n",
        "\"plagiarism\",\n",
        "\"censorship\",\n",
        "\"frustrating\",\n",
        "\"racist\",\n",
        "\"sexist\",\n",
        "\"beat\",\n",
        "\"lacking\",\n",
        "\"disallowed\",\n",
        "\"worse\",\n",
        "\"hack\",\n",
        "\"scary\",\n",
        "\"rejections\",\n",
        "\"garbage\",\n",
        "\"unnecessary\",\n",
        "\"unwanted\",\n",
        "\"Feminism-Hating\",\n",
        "\"violant\",\n",
        "\"falsifies citation\",\n",
        "\"destroying\",\n",
        "\"leaked\",\n",
        "\"re-think\",\n",
        "\"fake\",\n",
        "\"communist\",\n",
        "\"gulag\",\n",
        "\"war\",\n",
        "\"jailbreak\",\n",
        "\"nerfing\",\n",
        "\"computer winning\",\n",
        "\"ban\",\n",
        "\"odd filters\",\n",
        "\"Damn it\"\n",
        "\n",
        "])))"
      ],
      "metadata": {
        "id": "zVcjyme5B5fq"
      },
      "execution_count": null,
      "outputs": []
    },
    {
      "cell_type": "code",
      "source": [
        "reddit_data_not_useful = reddit_data[reddit_data[\"contains_not_useful\"] == True]"
      ],
      "metadata": {
        "id": "iHiuglUgy642"
      },
      "execution_count": null,
      "outputs": []
    },
    {
      "cell_type": "code",
      "source": [
        "reddit_data_useful[\"combined_reactions\"] = reddit_data_useful[\"upvotes\"] + reddit_data_useful[\"comms_num\"] + reddit_data_useful[\"score\"]"
      ],
      "metadata": {
        "colab": {
          "base_uri": "https://localhost:8080/"
        },
        "id": "aL_fM580CGOz",
        "outputId": "36d78ffe-d949-4df6-bfba-31bd713eb1f3"
      },
      "execution_count": null,
      "outputs": [
        {
          "output_type": "stream",
          "name": "stderr",
          "text": [
            "<ipython-input-101-f05077e9b016>:1: SettingWithCopyWarning: \n",
            "A value is trying to be set on a copy of a slice from a DataFrame.\n",
            "Try using .loc[row_indexer,col_indexer] = value instead\n",
            "\n",
            "See the caveats in the documentation: https://pandas.pydata.org/pandas-docs/stable/user_guide/indexing.html#returning-a-view-versus-a-copy\n",
            "  reddit_data_useful[\"combined_reactions\"] = reddit_data_useful[\"upvotes\"] + reddit_data_useful[\"comms_num\"] + reddit_data_useful[\"score\"]\n"
          ]
        }
      ]
    },
    {
      "cell_type": "code",
      "source": [
        "reddit_data_not_useful[\"combined_reactions\"] = reddit_data_not_useful[\"upvotes\"] + reddit_data_not_useful[\"comms_num\"] + reddit_data_not_useful[\"score\"]"
      ],
      "metadata": {
        "colab": {
          "base_uri": "https://localhost:8080/"
        },
        "id": "BZ1o4nrECG3g",
        "outputId": "2caac8a4-87fd-4719-e8ef-74e2f738969e"
      },
      "execution_count": null,
      "outputs": [
        {
          "output_type": "stream",
          "name": "stderr",
          "text": [
            "<ipython-input-109-24393c3dbe31>:1: SettingWithCopyWarning: \n",
            "A value is trying to be set on a copy of a slice from a DataFrame.\n",
            "Try using .loc[row_indexer,col_indexer] = value instead\n",
            "\n",
            "See the caveats in the documentation: https://pandas.pydata.org/pandas-docs/stable/user_guide/indexing.html#returning-a-view-versus-a-copy\n",
            "  reddit_data_not_useful[\"combined_reactions\"] = reddit_data_not_useful[\"upvotes\"] + reddit_data_not_useful[\"comms_num\"] + reddit_data_not_useful[\"score\"]\n"
          ]
        }
      ]
    },
    {
      "cell_type": "code",
      "source": [
        "reddit_data_useful.sort_values(by=\"combined_reactions\", ascending=False)"
      ],
      "metadata": {
        "id": "Gucj4jLuCJVp"
      },
      "execution_count": null,
      "outputs": []
    },
    {
      "cell_type": "code",
      "source": [
        "reddit_data_not_useful.sort_values(by=\"combined_reactions\", ascending=False)"
      ],
      "metadata": {
        "id": "EFj9H4b_CMtJ"
      },
      "execution_count": null,
      "outputs": []
    },
    {
      "cell_type": "code",
      "source": [
        "reddit_data_useful[\"combined_reactions\"].mean()"
      ],
      "metadata": {
        "colab": {
          "base_uri": "https://localhost:8080/"
        },
        "id": "nnGB0GkYCRU5",
        "outputId": "893583d2-e796-45e8-b82b-82280e93dae8"
      },
      "execution_count": null,
      "outputs": [
        {
          "output_type": "execute_result",
          "data": {
            "text/plain": [
              "132.94736842105263"
            ]
          },
          "metadata": {},
          "execution_count": 103
        }
      ]
    },
    {
      "cell_type": "code",
      "source": [
        "reddit_data_not_useful[\"combined_reactions\"].mean()"
      ],
      "metadata": {
        "colab": {
          "base_uri": "https://localhost:8080/"
        },
        "id": "j87DsDCtCT1q",
        "outputId": "901c472e-6439-4922-bc4f-29c3270ce902"
      },
      "execution_count": null,
      "outputs": [
        {
          "output_type": "execute_result",
          "data": {
            "text/plain": [
              "67.18181818181819"
            ]
          },
          "metadata": {},
          "execution_count": 111
        }
      ]
    },
    {
      "cell_type": "code",
      "source": [
        "reddit_data_useful[\"combined_reactions\"].describe()"
      ],
      "metadata": {
        "colab": {
          "base_uri": "https://localhost:8080/"
        },
        "id": "Fh2gTnXbCXGg",
        "outputId": "c05fb08a-d6ff-462b-e9da-aab96eee4383"
      },
      "execution_count": null,
      "outputs": [
        {
          "output_type": "execute_result",
          "data": {
            "text/plain": [
              "count     38.000000\n",
              "mean     132.947368\n",
              "std      273.628071\n",
              "min        5.000000\n",
              "25%       10.000000\n",
              "50%       20.000000\n",
              "75%       53.750000\n",
              "max      997.000000\n",
              "Name: combined_reactions, dtype: float64"
            ]
          },
          "metadata": {},
          "execution_count": 104
        }
      ]
    },
    {
      "cell_type": "code",
      "source": [
        "reddit_data_not_useful[\"combined_reactions\"].describe()"
      ],
      "metadata": {
        "colab": {
          "base_uri": "https://localhost:8080/"
        },
        "id": "P9DS9z-RCcD4",
        "outputId": "1f5590de-fb05-45c1-bd0e-f86dee530e78"
      },
      "execution_count": null,
      "outputs": [
        {
          "output_type": "execute_result",
          "data": {
            "text/plain": [
              "count     33.000000\n",
              "mean      67.181818\n",
              "std      127.284243\n",
              "min        5.000000\n",
              "25%       10.000000\n",
              "50%       13.000000\n",
              "75%       34.000000\n",
              "max      612.000000\n",
              "Name: combined_reactions, dtype: float64"
            ]
          },
          "metadata": {},
          "execution_count": 112
        }
      ]
    }
  ]
}