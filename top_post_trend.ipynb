{
  "nbformat": 4,
  "nbformat_minor": 0,
  "metadata": {
    "colab": {
      "provenance": []
    },
    "kernelspec": {
      "name": "python3",
      "display_name": "Python 3"
    },
    "language_info": {
      "name": "python"
    }
  },
  "cells": [
    {
      "cell_type": "code",
      "source": [
        "!pip install praw"
      ],
      "metadata": {
        "colab": {
          "base_uri": "https://localhost:8080/"
        },
        "id": "jdhNLY1TLRiP",
        "outputId": "e5552dca-73f6-4c57-9665-249bce39df15"
      },
      "execution_count": null,
      "outputs": [
        {
          "output_type": "stream",
          "name": "stdout",
          "text": [
            "Looking in indexes: https://pypi.org/simple, https://us-python.pkg.dev/colab-wheels/public/simple/\n",
            "Collecting praw\n",
            "  Downloading praw-7.7.0-py3-none-any.whl (189 kB)\n",
            "\u001b[2K     \u001b[90m━━━━━━━━━━━━━━━━━━━━━━━━━━━━━━━━━━━━━━━\u001b[0m \u001b[32m189.4/189.4 kB\u001b[0m \u001b[31m4.5 MB/s\u001b[0m eta \u001b[36m0:00:00\u001b[0m\n",
            "\u001b[?25hCollecting prawcore<3,>=2.1 (from praw)\n",
            "  Downloading prawcore-2.3.0-py3-none-any.whl (16 kB)\n",
            "Collecting update-checker>=0.18 (from praw)\n",
            "  Downloading update_checker-0.18.0-py3-none-any.whl (7.0 kB)\n",
            "Requirement already satisfied: websocket-client>=0.54.0 in /usr/local/lib/python3.10/dist-packages (from praw) (1.6.0)\n",
            "Requirement already satisfied: requests<3.0,>=2.6.0 in /usr/local/lib/python3.10/dist-packages (from prawcore<3,>=2.1->praw) (2.27.1)\n",
            "Requirement already satisfied: urllib3<1.27,>=1.21.1 in /usr/local/lib/python3.10/dist-packages (from requests<3.0,>=2.6.0->prawcore<3,>=2.1->praw) (1.26.16)\n",
            "Requirement already satisfied: certifi>=2017.4.17 in /usr/local/lib/python3.10/dist-packages (from requests<3.0,>=2.6.0->prawcore<3,>=2.1->praw) (2023.5.7)\n",
            "Requirement already satisfied: charset-normalizer~=2.0.0 in /usr/local/lib/python3.10/dist-packages (from requests<3.0,>=2.6.0->prawcore<3,>=2.1->praw) (2.0.12)\n",
            "Requirement already satisfied: idna<4,>=2.5 in /usr/local/lib/python3.10/dist-packages (from requests<3.0,>=2.6.0->prawcore<3,>=2.1->praw) (3.4)\n",
            "Installing collected packages: update-checker, prawcore, praw\n",
            "Successfully installed praw-7.7.0 prawcore-2.3.0 update-checker-0.18.0\n"
          ]
        }
      ]
    },
    {
      "cell_type": "code",
      "execution_count": null,
      "metadata": {
        "id": "z6euqaZSLFp2"
      },
      "outputs": [],
      "source": [
        "import praw\n",
        "import pandas as pd\n",
        "import matplotlib.pyplot as plt\n",
        "from datetime import datetime"
      ]
    },
    {
      "cell_type": "code",
      "source": [
        "from matplotlib.dates import MonthLocator, DateFormatter"
      ],
      "metadata": {
        "id": "IFldMgwLoJxr"
      },
      "execution_count": null,
      "outputs": []
    },
    {
      "cell_type": "code",
      "source": [
        "#user_agent = \"Scraper 1.0 by /u/Forhanreddit\"\n",
        "reddit = praw.Reddit(\n",
        "    client_id=\"ndZKfJEz1OG7SA26CNkQ_w\",\n",
        "    client_secret=\"F5o5q_a2oGmmkMGEE0ZuJVQEvpGDeA\",\n",
        "    user_agent=\"Forhanreddit\"\n",
        ")"
      ],
      "metadata": {
        "id": "5DzTLkAQLKY-"
      },
      "execution_count": null,
      "outputs": []
    },
    {
      "cell_type": "code",
      "source": [
        "# Load the subreddit data into a pandas dataframe\n",
        "subreddit = reddit.subreddit('ChatGPT')\n",
        "posts = subreddit.top('year', limit=1000)\n",
        "# Create a list of submission times\n",
        "times = []\n",
        "for post in posts:\n",
        "    times.append(post.created_utc)\n",
        "\n",
        "# Convert the times to a Pandas DataFrame\n",
        "df = pd.DataFrame(times, columns=['time'])\n",
        "df['time'] = pd.to_datetime(df['time'], unit='s')\n",
        "\n",
        "# Filter the DataFrame to include only posts from December 2022 to March 2023\n",
        "start_date = pd.Timestamp('2022-12-01')\n",
        "end_date = pd.Timestamp('2023-04-01')  # Include March as well\n",
        "mask = (df['time'] >= start_date) & (df['time'] < end_date)\n",
        "df = df.loc[mask]\n",
        "\n",
        "# Group the DataFrame by month and count the number of posts\n",
        "counts = df.groupby(pd.Grouper(key='time', freq='M')).size().reset_index(name='count')\n",
        "\n",
        "# Check if the counts DataFrame is empty\n",
        "if not counts.empty:\n",
        "    # Plot the results\n",
        "    plt.plot(counts['time'], counts['count'])\n",
        "    plt.xlabel('Time (Month)')\n",
        "    plt.ylabel('Number of Posts')\n",
        "    # plt.title('Number of Posts vs Time in Months for ChatGPT Subreddit (Dec 2022 - Mar 2023)')\n",
        "\n",
        "    # Format the x-axis labels with month names\n",
        "    ax = plt.gca()\n",
        "    ax.xaxis.set_major_locator(MonthLocator())\n",
        "    ax.xaxis.set_major_formatter(DateFormatter(\"%b '%y\"))\n",
        "\n",
        "    # Save the plot as PNG with DPI of 400\n",
        "    plt.savefig('posts_plot.png', dpi=400)\n",
        "    plt.show()\n",
        "else:\n",
        "    print('No posts found in the selected time period.')"
      ],
      "metadata": {
        "colab": {
          "base_uri": "https://localhost:8080/"
        },
        "id": "3v9raQpSMQCx",
        "outputId": "a62fbb3f-f3c8-416d-f8b1-3b4b5f8c2fea"
      },
      "execution_count": null,
      "outputs": [
        {
          "output_type": "stream",
          "name": "stderr",
          "text": [
            "<ipython-input-13-5028bf78875e>:3: DeprecationWarning: Positional arguments for 'BaseListingMixin.top' will no longer be supported in PRAW 8.\n",
            "Call this function with 'time_filter' as a keyword argument.\n",
            "  posts = subreddit.top('year', limit=1000)\n",
            "WARNING:praw:It appears that you are using PRAW in an asynchronous environment.\n",
            "It is strongly recommended to use Async PRAW: https://asyncpraw.readthedocs.io.\n",
            "See https://praw.readthedocs.io/en/latest/getting_started/multiple_instances.html#discord-bots-and-asynchronous-environments for more info.\n",
            "\n",
            "WARNING:praw:It appears that you are using PRAW in an asynchronous environment.\n",
            "It is strongly recommended to use Async PRAW: https://asyncpraw.readthedocs.io.\n",
            "See https://praw.readthedocs.io/en/latest/getting_started/multiple_instances.html#discord-bots-and-asynchronous-environments for more info.\n",
            "\n",
            "WARNING:praw:It appears that you are using PRAW in an asynchronous environment.\n",
            "It is strongly recommended to use Async PRAW: https://asyncpraw.readthedocs.io.\n",
            "See https://praw.readthedocs.io/en/latest/getting_started/multiple_instances.html#discord-bots-and-asynchronous-environments for more info.\n",
            "\n",
            "WARNING:praw:It appears that you are using PRAW in an asynchronous environment.\n",
            "It is strongly recommended to use Async PRAW: https://asyncpraw.readthedocs.io.\n",
            "See https://praw.readthedocs.io/en/latest/getting_started/multiple_instances.html#discord-bots-and-asynchronous-environments for more info.\n",
            "\n",
            "WARNING:praw:It appears that you are using PRAW in an asynchronous environment.\n",
            "It is strongly recommended to use Async PRAW: https://asyncpraw.readthedocs.io.\n",
            "See https://praw.readthedocs.io/en/latest/getting_started/multiple_instances.html#discord-bots-and-asynchronous-environments for more info.\n",
            "\n",
            "WARNING:praw:It appears that you are using PRAW in an asynchronous environment.\n",
            "It is strongly recommended to use Async PRAW: https://asyncpraw.readthedocs.io.\n",
            "See https://praw.readthedocs.io/en/latest/getting_started/multiple_instances.html#discord-bots-and-asynchronous-environments for more info.\n",
            "\n",
            "WARNING:praw:It appears that you are using PRAW in an asynchronous environment.\n",
            "It is strongly recommended to use Async PRAW: https://asyncpraw.readthedocs.io.\n",
            "See https://praw.readthedocs.io/en/latest/getting_started/multiple_instances.html#discord-bots-and-asynchronous-environments for more info.\n",
            "\n",
            "WARNING:praw:It appears that you are using PRAW in an asynchronous environment.\n",
            "It is strongly recommended to use Async PRAW: https://asyncpraw.readthedocs.io.\n",
            "See https://praw.readthedocs.io/en/latest/getting_started/multiple_instances.html#discord-bots-and-asynchronous-environments for more info.\n",
            "\n",
            "WARNING:praw:It appears that you are using PRAW in an asynchronous environment.\n",
            "It is strongly recommended to use Async PRAW: https://asyncpraw.readthedocs.io.\n",
            "See https://praw.readthedocs.io/en/latest/getting_started/multiple_instances.html#discord-bots-and-asynchronous-environments for more info.\n",
            "\n"
          ]
        }
      ]
    }
  ]
}