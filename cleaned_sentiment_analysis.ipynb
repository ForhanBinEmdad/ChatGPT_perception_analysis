{
  "nbformat": 4,
  "nbformat_minor": 0,
  "metadata": {
    "colab": {
      "provenance": []
    },
    "kernelspec": {
      "name": "python3",
      "display_name": "Python 3"
    },
    "language_info": {
      "name": "python"
    }
  },
  "cells": [
    {
      "cell_type": "code",
      "execution_count": null,
      "metadata": {
        "colab": {
          "base_uri": "https://localhost:8080/"
        },
        "id": "KS0YYQ6yZ1-z",
        "outputId": "684c56be-796a-49c3-c248-57ba455c499c"
      },
      "outputs": [
        {
          "output_type": "stream",
          "name": "stderr",
          "text": [
            "[nltk_data] Downloading package vader_lexicon to /root/nltk_data...\n"
          ]
        }
      ],
      "source": [
        "import nltk\n",
        "nltk.download('vader_lexicon')\n",
        "import pandas as pd\n",
        "import matplotlib.pyplot as plt\n",
        "import spacy\n",
        "from nltk.sentiment.vader import SentimentIntensityAnalyzer"
      ]
    },
    {
      "cell_type": "code",
      "source": [
        "# Load the Reddit data from CSV file into a pandas dataframe\n",
        "reddit_data = pd.read_csv('ChatGPT_educationsubreddit.csv')\n",
        "\n",
        "# Load the Spacy English model\n",
        "nlp = spacy.load('en_core_web_sm')\n",
        "\n",
        "# Initialize the VADER sentiment analyzer\n",
        "analyzer = SentimentIntensityAnalyzer()\n",
        "\n",
        "# Define a function to clean the text using Spacy\n",
        "def clean_text(text):\n",
        "    doc = nlp(text)\n",
        "    cleaned_text = [token.lemma_ for token in doc if not token.is_stop and not token.is_punct and not token.is_space]\n",
        "    return ' '.join(cleaned_text)\n",
        "\n",
        "# Define a function to get the sentiment category based on compound score\n",
        "def get_sentiment_category(compound):\n",
        "    if compound > 0.05:\n",
        "        return 'Positive'\n",
        "    elif compound < -0.05:\n",
        "        return 'Negative'\n",
        "    else:\n",
        "        return 'Neutral'\n",
        "\n",
        "# Define a function to perform sentiment analysis on each post title\n",
        "def get_sentiment(title):\n",
        "    cleaned_title = clean_text(title)\n",
        "    scores = analyzer.polarity_scores(cleaned_title)\n",
        "    compound = scores['compound']\n",
        "    category = get_sentiment_category(compound)\n",
        "    return category, compound\n",
        "\n",
        "# Apply the sentiment analysis function to each post title in the dataframe\n",
        "reddit_data[['sentiment', 'compound']] = reddit_data['title'].apply(get_sentiment).apply(pd.Series)\n",
        "\n",
        "# Print the count of posts in each sentiment category\n",
        "print(reddit_data['sentiment'].value_counts())\n",
        "\n",
        "# Print the average compound score for each sentiment category\n",
        "print(reddit_data.groupby('sentiment')['compound'].mean())\n",
        "\n",
        "# Print the first 10 rows of the dataframe with sentiment scores\n",
        "print(reddit_data.head(10))\n",
        "\n",
        "# Plot the bar chart for each sentiment category\n",
        "sentiment_counts = reddit_data['sentiment'].value_counts()\n",
        "fig, ax = plt.subplots(figsize=(8, 6))\n",
        "ax.bar(sentiment_counts.index, sentiment_counts.values)\n",
        "ax.set_xlabel('Sentiment')\n",
        "ax.set_ylabel('Count')\n",
        "plt.show()\n",
        "\n",
        "# Plot the box plot for each sentiment category\n",
        "fig, ax = plt.subplots(figsize=(10, 6))\n",
        "reddit_data.boxplot(column='compound', by='sentiment', ax=ax)\n",
        "ax.set_xlabel('Sentiment')\n",
        "ax.set_ylabel('Compound Score')\n",
        "plt.show()"
      ],
      "metadata": {
        "colab": {
          "base_uri": "https://localhost:8080/",
          "height": 1000
        },
        "id": "nFiBu4mXZ6GD",
        "outputId": "2333493f-5da7-40b2-c81f-f9a33891b4c6"
      },
      "execution_count": null,
      "outputs": [
        {
          "output_type": "stream",
          "name": "stdout",
          "text": [
            "Neutral     136\n",
            "Positive     69\n",
            "Negative     42\n",
            "Name: sentiment, dtype: int64\n",
            "sentiment\n",
            "Negative   -0.410317\n",
            "Neutral     0.000190\n",
            "Positive    0.440259\n",
            "Name: compound, dtype: float64\n",
            "                                               title  score       id  upvotes  \\\n",
            "0                                           Accurate    662  10pfei1      662   \n",
            "1  I asked new Bing chat to just expand a 200 wor...    508  11kavbz      508   \n",
            "2  ChatGPT is the single best learning tool I've ...    459   zcqkfj      459   \n",
            "3  Meta prompt engineering: ChatGPT creates amazi...    433  11b08ug      433   \n",
            "4                         It makes some good points.    430  108u7a2      430   \n",
            "5  ChatGPT now thinks it knows how to be a parent...    414  109ew4l      414   \n",
            "6                             The AI is dirty minded    275   zsi8wb      275   \n",
            "7                 Just heard a ChatGPT School Speech    266  10a11w5      266   \n",
            "8                   I'm a teacher and I love ChatGPT    255   ztrpnc      255   \n",
            "9  Make a table showing which fields of study hav...    243  103tst9      243   \n",
            "\n",
            "                                                 url  comms_num     created  \\\n",
            "0                https://i.redd.it/xugkbb4rnafa1.jpg        108  1675115950   \n",
            "1                https://i.redd.it/8zcjiarj26ma1.png         79  1678130140   \n",
            "2  https://www.reddit.com/r/ChatGPT/comments/zcqk...         79  1670198855   \n",
            "3  https://www.reddit.com/r/ChatGPT/comments/11b0...        102  1677268171   \n",
            "4                https://i.redd.it/la9ff9ph2cba1.png         31  1673407713   \n",
            "5             https://www.reddit.com/gallery/109ew4l        155  1673468623   \n",
            "6                https://i.redd.it/2a3vglg8qg7a1.png         62  1671702642   \n",
            "7  https://www.reddit.com/r/ChatGPT/comments/10a1...        227  1673533988   \n",
            "8  https://www.reddit.com/r/ChatGPT/comments/ztrp...         96  1671827078   \n",
            "9                https://i.redd.it/efu62rv2q6aa1.png         47  1672907217   \n",
            "\n",
            "                                                body sentiment  compound  \n",
            "0                                                NaN   Neutral    0.0000  \n",
            "1                                                NaN  Positive    0.3182  \n",
            "2  I know people are having fun trying to subvert...  Positive    0.4404  \n",
            "3  A few days ago I came across a prompt that hel...  Positive    0.7096  \n",
            "4                                                NaN  Positive    0.4404  \n",
            "5                                                NaN  Negative   -0.2732  \n",
            "6                                                NaN  Negative   -0.4404  \n",
            "7  We had to give mock congressional speeches in ...   Neutral    0.0000  \n",
            "8  I know... most people in education are jumping...  Positive    0.6369  \n",
            "9                                                NaN   Neutral    0.0258  \n"
          ]
        },
        {
          "output_type": "display_data",
          "data": {
            "text/plain": [
              "<Figure size 576x432 with 1 Axes>"
            ],
            "image/png": "[encoded data removed]"
          },
          "metadata": {
            "needs_background": "light"
          }
        },
        {
          "output_type": "display_data",
          "data": {
            "text/plain": [
              "<Figure size 720x432 with 1 Axes>"
            ],
            "image/png": "[encoded data removed]"
          },
          "metadata": {
            "needs_background": "light"
          }
        }
      ]
    }
  ]
}